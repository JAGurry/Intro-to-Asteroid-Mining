{
 "cells": [
  {
   "cell_type": "markdown",
   "metadata": {},
   "source": [
    "# Intro to Asteroid Mission Design"
   ]
  },
  {
   "cell_type": "markdown",
   "metadata": {},
   "source": [
    "This notebook is dedicated to a hypothetical mission to one of eight asteroids marked as ERO and the best targts for mining by the Asterank database"
   ]
  },
  {
   "cell_type": "markdown",
   "metadata": {},
   "source": [
    "One can visit the database at: https://www.asterank.com/"
   ]
  },
  {
   "cell_type": "markdown",
   "metadata": {},
   "source": [
    "The start of this project features the heliocentric orbits of each body and the Earth being mapped in 2D and then 3D.  Preliminary mission calculations will be made to obtain an undersanding of fuel cost and travel time."
   ]
  },
  {
   "cell_type": "markdown",
   "metadata": {},
   "source": [
    "The ultimate goal is to obtain a realistic approach to how one might compute a trajectory and rendezvous with one of the asteroids selected in this project. Expanding into the elements beyond the scope of introductory astrodynamics is of interest, for example elements such as numerical methods in trajectory calculation."
   ]
  },
  {
   "cell_type": "markdown",
   "metadata": {},
   "source": [
    "## 2D Plots"
   ]
  },
  {
   "cell_type": "markdown",
   "metadata": {},
   "source": [
    "Orbits for each body in question were calculated with the following equations.  Perihelion and Apihelion of each body were found on the JPL Small Body Database: https://ssd.jpl.nasa.gov/sbdb.cgi"
   ]
  },
  {
   "cell_type": "markdown",
   "metadata": {},
   "source": [
    "Semimajor Axis:$$a = \\frac{r_a + r_p}{2}$$"
   ]
  },
  {
   "cell_type": "markdown",
   "metadata": {},
   "source": [
    "Eccentricity:$$e = \\frac{r_a - r_p}{r_a + r_p}$$"
   ]
  },
  {
   "cell_type": "markdown",
   "metadata": {},
   "source": [
    "Position Magnitude: $$r = \\frac{a(1-e^2)}{1+ecos( \\theta)}$$"
   ]
  },
  {
   "cell_type": "markdown",
   "metadata": {},
   "source": [
    "X Coordinate of Ellipse:$$ x = ae + rcos(\\theta)$$"
   ]
  },
  {
   "cell_type": "markdown",
   "metadata": {},
   "source": [
    "Y Coordinate of Ellipse:$$ y =  rsin(\\theta)$$"
   ]
  },
  {
   "cell_type": "markdown",
   "metadata": {},
   "source": [
    " "
   ]
  },
  {
   "cell_type": "markdown",
   "metadata": {},
   "source": [
    " "
   ]
  },
  {
   "cell_type": "markdown",
   "metadata": {},
   "source": [
    "This process was iterated for 100 true anomaly values evenly spaced between 0 and 2$\\pi$"
   ]
  },
  {
   "cell_type": "markdown",
   "metadata": {},
   "source": [
    "The python code that calculated and plotted the orbit of each body is shown below:"
   ]
  },
  {
   "cell_type": "code",
   "execution_count": null,
   "metadata": {},
   "outputs": [],
   "source": [
    "import numpy as np \n",
    "import matplotlib.pyplot as plt\n",
    "from mpl_toolkits import mplot3d\n",
    "\n",
    "def semimajor_axis(ra,rp):\n",
    "\ta = (ra + rp) / 2\n",
    "\n",
    "\treturn a\n",
    "\n",
    "\n",
    "def eccentricity(ra, rp):\n",
    "\te  = (ra - rp) / (ra + rp)\n",
    "\n",
    "\treturn e\n",
    "\n",
    "\n",
    "def position(a, e, true_anomaly):\n",
    "\tr = a * (1 - e**2) / (1 + e * np.cos(true_anomaly))\n",
    "\n",
    "\treturn r\n",
    "\n",
    "\n",
    "def helio_orbit(rp_object, ra_object, object_name):\n",
    "\n",
    "\ttheta = np.linspace(0, 2 * np.pi, 100)\n",
    "\n",
    "\ta_object = semimajor_axis(ra_object, rp_object)\n",
    "\te_object = eccentricity(ra_object, rp_object)\n",
    "\n",
    "\tr_object=[]\n",
    "\n",
    "\tfor tru_anom in theta:\n",
    "\n",
    "\t\tr_object_unit = position(a_object,e_object,tru_anom)\n",
    "\t\tr_object.append(r_object_unit)\n",
    "\n",
    "\tx = []\n",
    "\n",
    "\tfor t, r in zip(theta, r_object):\n",
    "\t\tx_unit = a_object * e_object + r * np.cos(t)\n",
    "\t\tx.append(x_unit)\n",
    "\n",
    "\ty = []\n",
    "\n",
    "\tfor t, r in zip(theta, r_object):\n",
    "\t\ty_unit =  r * np.sin(t)\n",
    "\t\ty.append(y_unit)\n",
    "\n",
    "\tsunx = a_object- rp_object\t\n",
    "\n",
    "\tplt.plot(x,y,sunx,0,'o',mew =10, ms = 10)\n",
    "\tplt.title(\"Orbit of %s about the sun\" % object_name)\n",
    "\tplt.xlabel(\"Kilometers\")\n",
    "\tplt.ylabel(\"Kilometers\")\n",
    "\tplt.show()"
   ]
  },
  {
   "cell_type": "markdown",
   "metadata": {},
   "source": [
    "    "
   ]
  },
  {
   "cell_type": "markdown",
   "metadata": {},
   "source": [
    "The 2D plots of each body's Heliocentric orbit are shown below:"
   ]
  },
  {
   "cell_type": "markdown",
   "metadata": {},
   "source": [
    "<img src=\"images/Earth 2D.png\">"
   ]
  },
  {
   "cell_type": "markdown",
   "metadata": {},
   "source": [
    "<img src=\"images/Ryugu 2D.png\">"
   ]
  },
  {
   "cell_type": "markdown",
   "metadata": {},
   "source": [
    "<img src=\"images/ML 2D.png\">"
   ]
  },
  {
   "cell_type": "markdown",
   "metadata": {},
   "source": [
    "<img src=\"images/Nereus 2D.png\">"
   ]
  },
  {
   "cell_type": "markdown",
   "metadata": {},
   "source": [
    "<img src=\"images/Bennu 2D.png\">"
   ]
  },
  {
   "cell_type": "markdown",
   "metadata": {},
   "source": [
    "<img src=\"images/Didymos 2D.png\">"
   ]
  },
  {
   "cell_type": "markdown",
   "metadata": {},
   "source": [
    "<img src=\"images/UW158 2D.png\">"
   ]
  },
  {
   "attachments": {},
   "cell_type": "markdown",
   "metadata": {},
   "source": [
    "<img src=\"images/Anteros 2D.png\">"
   ]
  },
  {
   "cell_type": "markdown",
   "metadata": {},
   "source": [
    "<img src=\"images/TC 2D.png\">"
   ]
  },
  {
   "cell_type": "markdown",
   "metadata": {},
   "source": [
    "## 3D Plot"
   ]
  },
  {
   "cell_type": "markdown",
   "metadata": {},
   "source": [
    "Orbits for each body in question were calculated with the following equations.  Perihelion, Apihelion, Argument of Periapsis, Longitude of Ascending Node and Inclination of each body were found on the JPL Small Body Database: https://ssd.jpl.nasa.gov/sbdb.cgi"
   ]
  },
  {
   "cell_type": "markdown",
   "metadata": {},
   "source": [
    "The transformation from a Perifocal to an ECI coordinate system was achieved with following transformation matrix:"
   ]
  },
  {
   "cell_type": "markdown",
   "metadata": {},
   "source": [
    "\\begin{equation*}\n",
    "T_{P\\rightarrow E}  = \n",
    "\\begin{vmatrix}\n",
    "cos(\\Omega)cos(\\omega)-sin(\\Omega)sin(\\omega)cos(i)& -cos(\\Omega)sin(\\omega)-sin(\\Omega)cos(\\omega)cos(i)&sin(\\Omega)sin(i)\\\\\n",
    "sin(\\Omega)cos(\\omega)+cos(\\Omega)sin(\\omega)cos(i)& -sin(\\Omega)sin(\\omega)+cos(\\Omega)cos(\\omega)cos(i)&-cos(\\Omega)sin(i)\\\\sin(\\omega)sin(i)&cos(\\omega)sin(i)&cos(i)\n",
    "\\end{vmatrix}\n",
    "\\end{equation*}"
   ]
  },
  {
   "cell_type": "markdown",
   "metadata": {},
   "source": [
    "The transformation from an ECI to an HCI coordinate system was achieved with following transformation matrix:"
   ]
  },
  {
   "cell_type": "markdown",
   "metadata": {},
   "source": [
    "\\begin{equation*}\n",
    "T_{E\\rightarrow H}  = \n",
    "\\begin{vmatrix}\n",
    "cos(23.5)& -sin(23.5)& 0\n",
    "\\\\sin(23.5)& cos(23.5)& 0\n",
    "\\\\0 & 0 & 1\n",
    "\\end{vmatrix}\n",
    "\\end{equation*}"
   ]
  },
  {
   "cell_type": "markdown",
   "metadata": {},
   "source": [
    "Semimajor Axis:$$a = \\frac{r_a + r_p}{2}$$"
   ]
  },
  {
   "cell_type": "markdown",
   "metadata": {},
   "source": [
    "Eccentricity:$$e = \\frac{r_a - r_p}{r_a + r_p}$$"
   ]
  },
  {
   "cell_type": "markdown",
   "metadata": {},
   "source": [
    "Position Magnitude: $$r = \\frac{a(1-e^2)}{1+ecos( \\theta)}$$"
   ]
  },
  {
   "cell_type": "markdown",
   "metadata": {},
   "source": [
    "Position Magnitude ECI:$$ r_{ECI}=T_{P\\rightarrow E} * r_{Peri}$$"
   ]
  },
  {
   "cell_type": "markdown",
   "metadata": {},
   "source": [
    "Position Magnitude HCI:$$ r_{HCI}=T_{E\\rightarrow H} * r_{RCI}$$"
   ]
  },
  {
   "cell_type": "markdown",
   "metadata": {},
   "source": [
    " "
   ]
  },
  {
   "cell_type": "markdown",
   "metadata": {},
   "source": [
    "This process was iterated for 100 true anomaly values evenly spaced between 0 and 2$\\pi$"
   ]
  },
  {
   "cell_type": "markdown",
   "metadata": {},
   "source": [
    "The python code that calculated and plotted the orbit of each body is shown below:"
   ]
  },
  {
   "cell_type": "code",
   "execution_count": null,
   "metadata": {},
   "outputs": [],
   "source": [
    "import numpy as np \n",
    "import astrodynamics\n",
    "import matplotlib.pyplot as plt\n",
    "from mpl_toolkits import mplot3d\n",
    "\n",
    "def GCI2HCI(r_GCI):\n",
    "\ttheta = 0.4101524\n",
    "\trotM = np.array([[\n",
    "\t\tnp.cos(theta), -np.sin(theta), 0],  # 3D rotation matrix about x-axis\n",
    "\t\t[\n",
    "\t\tnp.sin(theta), np.cos(theta), 0],\n",
    "\t\t[\n",
    "\t\t0 , 0, 1]])\n",
    "\n",
    "\tr_HCI = rotM.dot(r_GCI)\n",
    "\n",
    "\treturn r_HCI\n",
    "\n",
    "\n",
    "def helio3D(rp_object, ra_object, o_object, i_object, w_object, object_name):\n",
    "\n",
    "\to = o_object\n",
    "\tw = w_object\n",
    "\ti = i_object\n",
    "\ttheta = np.linspace(0, 2 * np.pi, 100)\n",
    "\n",
    "# transformation from perifocal to IJK\n",
    "\tIJK_transform = np.array([[\n",
    "\t\tnp.cos(o)*np.cos(w)-np.sin(o)*np.sin(w)*np.cos(i),\n",
    "\t\t-np.cos(o)*np.sin(w)-np.sin(o)*np.cos(w)*np.cos(i),\n",
    "\t\tnp.sin(o)*np.sin(i)],\n",
    "\t\t[\n",
    "\t\tnp.sin(o)*np.cos(w)+np.cos(o)*np.sin(w)*np.cos(i),\n",
    "\t\t-np.sin(o)*np.sin(w)+np.cos(o)*np.cos(w)*np.cos(i),\n",
    "\t\t-np.cos(o)*np.sin(i)],\n",
    "\t\t[\n",
    "\t\tnp.sin(w)*np.sin(i),\n",
    "\t\tnp.cos(w)*np.sin(i),\n",
    "\t\tnp.cos(i)]])\n",
    "\n",
    "\ta_object = semimajor_axis(ra_object,rp_object)\n",
    "\te_object = eccentricity(ra_object, rp_object)\n",
    "\n",
    "\tr_I = []\n",
    "\tr_J = []\n",
    "\tr_K = []\n",
    "\n",
    "\tfor true_anomaly in theta:\n",
    "\n",
    "\t\tr = position(a_object, e_object, true_anomaly)\n",
    "\n",
    "\t\tr_PQZ = []\n",
    "\n",
    "\t\t# R vector perifocal\n",
    "\t\tr_P = r * np.cos(true_anomaly) #perifocal coordinate\n",
    "\t\tr_Q = r * np.sin(true_anomaly) #perifocal coordinate\n",
    "\n",
    "\t\tr_PQZ.append(r_P)\n",
    "\t\tr_PQZ.append(r_Q)\n",
    "\t\tr_PQZ.append(0)\n",
    "\n",
    "\t\tnp.transpose(np.array(r_PQZ))\n",
    "\n",
    "\t\tr_IJK = IJK_transform.dot(r_PQZ)\n",
    "\t\tr_IJK = GCI2HCI(r_IJK)  #transformation from GCI to HCI\n",
    "\n",
    "\t\tr_I.append(r_IJK[0])\n",
    "\t\tr_J.append(r_IJK[1])\n",
    "\t\tr_K.append(r_IJK[2])\n",
    "\n",
    "def all_helio():\n",
    "\te_i, e_j, e_k = astrodynamics.helio3D(147098291, 152098233, 3.0525809, 0.12487831, 5.0282936,  \"Earth\")\n",
    "\try_i, ry_j, ry_k = astrodynamics.helio3D(144107628.845, 211815625.124, 4.39159746, 0.102689937, 3.69014964,\"162173 Ryugu\")\n",
    "\tml_i, ml_j, ml_k = astrodynamics.helio3D(164366172.496, 216352928.542, 1.822280819, 0.076406849461, 3.198891813, \"1989 ML\")\n",
    "\tn_i, n_j, n_k = astrodynamics.helio3D(142540510.367, 302879825.181, 5.48834299265, 0.02499001029682, 158.019386, \"4660 Nereus\")\n",
    "\tb_i, b_j, b_k = astrodynamics.helio3D(134172834.252, 202839752.882, 0.0359694906, 0.105328875, 1.155811136, \"101955 Bennu\")\n",
    "\td_i, d_j, d_k = astrodynamics.helio3D(151587522.38, 340484753.713, 1.27773809, 0.0594860569, 5.5728363, \"65803 Didymos\")\n",
    "\tu_i, u_j, u_k = astrodynamics.helio3D(151228487.491, 333618211.448, 4.99164, 0.0797912174, 0.152780887, \"2011 UW158\")\n",
    "\ta_i, a_j, a_k = astrodynamics.helio3D(239984904.177, 268797454.074, 4.29926955, 0.15195011, 5.90567059, \"1943 Anteros\")\n",
    "\tt_i, t_j, t_k = astrodynamics.helio3D(165716219.195, 302699750.549, 1.547289591924442709,0.123698463055779792, 4.809273636806145724, \"1992 TC\")\n",
    "\n",
    "\tmaxC = 2.9*10**8\n",
    "\n",
    "\tfig = plt.figure()\n",
    "\tax = plt.axes(projection='3d')\n",
    "\tax.plot3D(e_i, e_j, e_k, label =\"Earth\")\n",
    "\tax.plot3D(ry_i, ry_j, ry_k, label=\"162173 Ryugu\")\n",
    "\tax.plot3D(ml_i, ml_j, ml_k,label=\"1989 ML\")\n",
    "\tax.plot3D(n_i, n_j, n_k, label=\"4660 Nereus\")\n",
    "\tax.plot3D(b_i, b_j, b_k, label=\"101955 Bennu\")\n",
    "\tax.plot3D(d_i, d_j, d_k, label=\"65803 Didymos\")\n",
    "\tax.plot3D(u_i, u_j, u_k, label= \"2011 UW158\")\n",
    "\tax.plot3D(a_i, a_j, a_k, label=\"1943 Anteros\")\n",
    "\tax.plot3D(t_i, t_j, t_k, label='1992 TC')\n",
    "\tplt.title(\"Orbit of ERO and Earth about the sun\")\n",
    "\tplt.xlabel(\"Kilometers\")\n",
    "\tplt.ylabel(\"Kilometers\")\n",
    "\tax.set_xlim(-maxC, maxC); ax.set_ylim(-maxC, maxC); ax.set_zlim(-maxC, maxC);\n",
    "\tax.scatter3D(0, 0, 0, s=700, c=\"orange\")\n",
    "\tax.legend()\n",
    "\tplt.show()\n"
   ]
  },
  {
   "cell_type": "markdown",
   "metadata": {},
   "source": [
    "  "
   ]
  },
  {
   "cell_type": "markdown",
   "metadata": {},
   "source": [
    "The 3D plots of each body's Heliocentric orbit are shown below:"
   ]
  },
  {
   "cell_type": "markdown",
   "metadata": {},
   "source": [
    "<img src=\"images/3D top.png\">"
   ]
  },
  {
   "cell_type": "markdown",
   "metadata": {},
   "source": [
    "<img src=\"images/3D side.png\">"
   ]
  }
 ],
 "metadata": {
  "kernelspec": {
   "display_name": "Python 3",
   "language": "python",
   "name": "python3"
  },
  "language_info": {
   "codemirror_mode": {
    "name": "ipython",
    "version": 3
   },
   "file_extension": ".py",
   "mimetype": "text/x-python",
   "name": "python",
   "nbconvert_exporter": "python",
   "pygments_lexer": "ipython3",
   "version": "3.6.5"
  }
 },
 "nbformat": 4,
 "nbformat_minor": 2
}
